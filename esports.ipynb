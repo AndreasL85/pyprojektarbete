{
 "cells": [
  {
   "cell_type": "code",
   "execution_count": 81,
   "metadata": {},
   "outputs": [],
   "source": [
    "# Esports Statistics from 1998-2024\n",
    "import pandas as pd\n",
    "import matplotlib.pyplot as plt\n",
    "import numpy"
   ]
  },
  {
   "cell_type": "code",
   "execution_count": null,
   "metadata": {},
   "outputs": [
    {
     "name": "stdout",
     "output_type": "stream",
     "text": [
      "\n",
      "Kolumntyper efter konvertering:\n",
      " Date           datetime64[ns]\n",
      "Game                   object\n",
      "Earnings              float64\n",
      "Players                 int64\n",
      "Tournaments             int64\n",
      "Game_number             int64\n",
      "dtype: object\n"
     ]
    }
   ],
   "source": [
    "data = pd.read_csv(\"HistoricalEsportData.csv\")\n",
    "\n",
    "\n",
    "data[\"Earnings\"] = pd.to_numeric(data[\"Earnings\"], errors=\"coerce\")\n",
    "data[\"Players\"] = pd.to_numeric(data[\"Players\"], errors=\"coerce\")\n",
    "data[\"Tournaments\"] = pd.to_numeric(data[\"Tournaments\"], errors=\"coerce\")\n",
    "\n",
    "data[\"Date\"] = pd.to_datetime(data[\"Date\"], errors=\"coerce\")\n",
    "\n",
    "data[\"Game_numerical\"] = pd.factorize(data[\"Game\"])[0]\n",
    "\n",
    "\n",
    "print(\"\\nKolumntyper efter konvertering:\\n\", data.dtypes)\n",
    "\n",
    "\n"
   ]
  },
  {
   "cell_type": "code",
   "execution_count": 83,
   "metadata": {},
   "outputs": [
    {
     "name": "stdout",
     "output_type": "stream",
     "text": [
      "                                 Game  ReleaseDate                Genre  \\\n",
      "0                      Age of Empires         1997             Strategy   \n",
      "1                   Age of Empires II         1999             Strategy   \n",
      "2                  Age of Empires III         2005             Strategy   \n",
      "3                   Age of Empires IV         2021             Strategy   \n",
      "4               Age of Empires Online         2011             Strategy   \n",
      "..                                ...          ...                  ...   \n",
      "664  Guitar Hero III: Legends of Rock         2007  Music / Rhythm Game   \n",
      "665           Guitar Hero: World Tour         2008  Music / Rhythm Game   \n",
      "666                   Just Dance 2014         2013  Music / Rhythm Game   \n",
      "667                              osu!         2007  Music / Rhythm Game   \n",
      "668                      Synth Riders         2018  Music / Rhythm Game   \n",
      "\n",
      "     TotalEarnings  OfflineEarnings  PercentOffline  TotalPlayers  \\\n",
      "0        736284.75        522378.17        0.709478           624   \n",
      "1       3898508.73       1361409.22        0.349213          2256   \n",
      "2        122256.72         44472.60        0.363764           172   \n",
      "3       1190813.44        439117.93        0.368755           643   \n",
      "4         11462.98           775.00        0.067609            52   \n",
      "..             ...              ...             ...           ...   \n",
      "664       19000.00         19000.00        1.000000             8   \n",
      "665           0.00             0.00             NaN             0   \n",
      "666           0.00             0.00             NaN             3   \n",
      "667      274092.83         32667.89        0.119185          1059   \n",
      "668        2100.00           600.00        0.285714            11   \n",
      "\n",
      "     TotalTournaments  Genre_number  \n",
      "0                 341             0  \n",
      "1                1939             0  \n",
      "2                 179             0  \n",
      "3                 423             0  \n",
      "4                  68             0  \n",
      "..                ...           ...  \n",
      "664                 2            11  \n",
      "665                 0            11  \n",
      "666                 1            11  \n",
      "667               251            11  \n",
      "668                 7            11  \n",
      "\n",
      "[669 rows x 9 columns]\n"
     ]
    }
   ],
   "source": [
    "ge_data = pd.read_csv(\"GeneralEsportData.csv\")\n",
    "\n",
    "ge_data[\"Genre_number\"] = pd.factorize(ge_data[\"Genre\"])[0]\n",
    "\n",
    "print(ge_data)\n",
    "\n"
   ]
  },
  {
   "cell_type": "code",
   "execution_count": 84,
   "metadata": {},
   "outputs": [
    {
     "name": "stdout",
     "output_type": "stream",
     "text": [
      "            Date                                Game  Earnings  Players  \\\n",
      "0     1998-01-01        Command & Conquer: Red Alert   15000.0        8   \n",
      "1     1998-01-01                          QuakeWorld   15000.0        8   \n",
      "2     1998-05-01                            Quake II   15000.0        4   \n",
      "3     1998-05-01                  Total Annihilation   15000.0        2   \n",
      "4     1998-05-01                          QuakeWorld     300.0        3   \n",
      "...          ...                                 ...       ...      ...   \n",
      "10234 2024-10-01       Super Street Fighter II Turbo     340.0        3   \n",
      "10235 2024-10-01               Skullgirls 2nd Encore     330.0        3   \n",
      "10236 2024-10-01       StarCraft: Evo Complete (Mod)     308.0        4   \n",
      "10237 2024-10-01            Melty Blood: Type Lumina     280.0        3   \n",
      "10238 2024-10-01  Power Rangers: Battle for the Grid     200.0        3   \n",
      "\n",
      "       Tournaments  Game_number                 Genre  \n",
      "0                1            0              Strategy  \n",
      "1                1            1  First-Person Shooter  \n",
      "2                1            2  First-Person Shooter  \n",
      "3                1            3              Strategy  \n",
      "4                1            1  First-Person Shooter  \n",
      "...            ...          ...                   ...  \n",
      "10234            1           13         Fighting Game  \n",
      "10235            1          288         Fighting Game  \n",
      "10236            1          617              Strategy  \n",
      "10237            1          549         Fighting Game  \n",
      "10238            1          411         Fighting Game  \n",
      "\n",
      "[10239 rows x 7 columns]\n"
     ]
    }
   ],
   "source": [
    "\n",
    "data[\"Genre\"] = data[\"Game\"].map(ge_data.set_index(\"Game\")[\"Genre\"])\n",
    "\n",
    "print(data)\n",
    "\n",
    "data.to_csv(\"new_data.csv\", index = False)\n"
   ]
  }
 ],
 "metadata": {
  "kernelspec": {
   "display_name": "venv",
   "language": "python",
   "name": "python3"
  },
  "language_info": {
   "codemirror_mode": {
    "name": "ipython",
    "version": 3
   },
   "file_extension": ".py",
   "mimetype": "text/x-python",
   "name": "python",
   "nbconvert_exporter": "python",
   "pygments_lexer": "ipython3",
   "version": "3.13.1"
  }
 },
 "nbformat": 4,
 "nbformat_minor": 2
}
