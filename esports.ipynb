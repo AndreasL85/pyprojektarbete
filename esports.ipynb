{
 "cells": [
  {
   "cell_type": "code",
   "execution_count": 93,
   "metadata": {},
   "outputs": [],
   "source": [
    "# Esports Statistics from 1998-2024\n",
    "import pandas as pd\n",
    "import matplotlib.pyplot as plt\n",
    "import numpy"
   ]
  },
  {
   "cell_type": "code",
   "execution_count": 94,
   "metadata": {},
   "outputs": [],
   "source": [
    "data = pd.read_csv(\"HistoricalEsportData.csv\")\n",
    "\n",
    "\n",
    "data[\"Earnings\"] = pd.to_numeric(data[\"Earnings\"], errors=\"coerce\")\n",
    "data[\"Players\"] = pd.to_numeric(data[\"Players\"], errors=\"coerce\")\n",
    "data[\"Tournaments\"] = pd.to_numeric(data[\"Tournaments\"], errors=\"coerce\")\n",
    "\n",
    "data[\"Date\"] = pd.to_datetime(data[\"Date\"], errors=\"coerce\")\n",
    "\n",
    "data[\"Game_numerical\"] = pd.factorize(data[\"Game\"])[0]\n",
    "\n",
    "\n",
    "\n",
    "\n"
   ]
  },
  {
   "cell_type": "code",
   "execution_count": 95,
   "metadata": {},
   "outputs": [],
   "source": [
    "ge_data = pd.read_csv(\"GeneralEsportData.csv\")\n",
    "\n",
    "ge_data[\"Genre_number\"] = pd.factorize(ge_data[\"Genre\"])[0]\n",
    "\n",
    "\n"
   ]
  },
  {
   "cell_type": "code",
   "execution_count": 96,
   "metadata": {},
   "outputs": [
    {
     "name": "stdout",
     "output_type": "stream",
     "text": [
      "            Date                                Game  Earnings  Players  \\\n",
      "0     1998-01-01        Command & Conquer: Red Alert   15000.0        8   \n",
      "1     1998-01-01                          QuakeWorld   15000.0        8   \n",
      "2     1998-05-01                            Quake II   15000.0        4   \n",
      "3     1998-05-01                  Total Annihilation   15000.0        2   \n",
      "4     1998-05-01                          QuakeWorld     300.0        3   \n",
      "...          ...                                 ...       ...      ...   \n",
      "10234 2024-10-01       Super Street Fighter II Turbo     340.0        3   \n",
      "10235 2024-10-01               Skullgirls 2nd Encore     330.0        3   \n",
      "10236 2024-10-01       StarCraft: Evo Complete (Mod)     308.0        4   \n",
      "10237 2024-10-01            Melty Blood: Type Lumina     280.0        3   \n",
      "10238 2024-10-01  Power Rangers: Battle for the Grid     200.0        3   \n",
      "\n",
      "       Tournaments  Game_numerical                 Genre  \n",
      "0                1               0              Strategy  \n",
      "1                1               1  First-Person Shooter  \n",
      "2                1               2  First-Person Shooter  \n",
      "3                1               3              Strategy  \n",
      "4                1               1  First-Person Shooter  \n",
      "...            ...             ...                   ...  \n",
      "10234            1              13         Fighting Game  \n",
      "10235            1             288         Fighting Game  \n",
      "10236            1             617              Strategy  \n",
      "10237            1             549         Fighting Game  \n",
      "10238            1             411         Fighting Game  \n",
      "\n",
      "[10239 rows x 7 columns]\n"
     ]
    }
   ],
   "source": [
    "\n",
    "data[\"Genre\"] = data[\"Game\"].map(ge_data.set_index(\"Game\")[\"Genre\"])\n",
    "\n",
    "print(data)\n",
    "\n",
    "data.to_csv(\"new_data.csv\", index = False)\n"
   ]
  }
 ],
 "metadata": {
  "kernelspec": {
   "display_name": "venv",
   "language": "python",
   "name": "python3"
  },
  "language_info": {
   "codemirror_mode": {
    "name": "ipython",
    "version": 3
   },
   "file_extension": ".py",
   "mimetype": "text/x-python",
   "name": "python",
   "nbconvert_exporter": "python",
   "pygments_lexer": "ipython3",
   "version": "3.13.1"
  }
 },
 "nbformat": 4,
 "nbformat_minor": 2
}
